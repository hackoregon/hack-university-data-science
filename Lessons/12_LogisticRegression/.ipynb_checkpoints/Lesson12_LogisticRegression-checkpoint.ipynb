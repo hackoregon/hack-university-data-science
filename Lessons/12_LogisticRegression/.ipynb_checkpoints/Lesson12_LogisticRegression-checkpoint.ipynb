{
 "cells": [
  {
   "cell_type": "code",
   "execution_count": null,
   "metadata": {
    "collapsed": true
   },
   "outputs": [],
   "source": [
    "%matplotlib inline\n",
    "import matplotlib.pyplot as plt\n",
    "import pandas as pd\n",
    "import numpy as np\n",
    "import statsmodels.api as sm\n",
    "import seaborn as sns"
   ]
  },
  {
   "cell_type": "markdown",
   "metadata": {},
   "source": [
    "### Donner Party"
   ]
  },
  {
   "cell_type": "code",
   "execution_count": 2,
   "metadata": {
    "collapsed": true
   },
   "outputs": [],
   "source": [
    "donner = pd.read_csv(\"donner.csv\")"
   ]
  },
  {
   "cell_type": "code",
   "execution_count": 3,
   "metadata": {
    "collapsed": false
   },
   "outputs": [
    {
     "data": {
      "text/html": [
       "<div>\n",
       "<table border=\"1\" class=\"dataframe\">\n",
       "  <thead>\n",
       "    <tr style=\"text-align: right;\">\n",
       "      <th></th>\n",
       "      <th>Age</th>\n",
       "      <th>Sex</th>\n",
       "      <th>Status</th>\n",
       "    </tr>\n",
       "  </thead>\n",
       "  <tbody>\n",
       "    <tr>\n",
       "      <th>0</th>\n",
       "      <td>23</td>\n",
       "      <td>Male</td>\n",
       "      <td>Died</td>\n",
       "    </tr>\n",
       "    <tr>\n",
       "      <th>1</th>\n",
       "      <td>40</td>\n",
       "      <td>Female</td>\n",
       "      <td>Survived</td>\n",
       "    </tr>\n",
       "    <tr>\n",
       "      <th>2</th>\n",
       "      <td>40</td>\n",
       "      <td>Male</td>\n",
       "      <td>Survived</td>\n",
       "    </tr>\n",
       "    <tr>\n",
       "      <th>3</th>\n",
       "      <td>30</td>\n",
       "      <td>Male</td>\n",
       "      <td>Died</td>\n",
       "    </tr>\n",
       "    <tr>\n",
       "      <th>4</th>\n",
       "      <td>28</td>\n",
       "      <td>Male</td>\n",
       "      <td>Died</td>\n",
       "    </tr>\n",
       "  </tbody>\n",
       "</table>\n",
       "</div>"
      ],
      "text/plain": [
       "   Age     Sex    Status\n",
       "0   23    Male      Died\n",
       "1   40  Female  Survived\n",
       "2   40    Male  Survived\n",
       "3   30    Male      Died\n",
       "4   28    Male      Died"
      ]
     },
     "execution_count": 3,
     "metadata": {},
     "output_type": "execute_result"
    }
   ],
   "source": [
    "donner.head()"
   ]
  },
  {
   "cell_type": "markdown",
   "metadata": {},
   "source": [
    "Since both categorical variables are binary, we can encode with one column zeros and ones. We also need to create an intercept column to pass to the model."
   ]
  },
  {
   "cell_type": "code",
   "execution_count": 4,
   "metadata": {
    "collapsed": true
   },
   "outputs": [],
   "source": [
    "donner[\"Female\"] = donner[\"Sex\"].apply(lambda x: 1 if x==\"Female\" else 0)\n",
    "donner[\"Survived\"] = donner[\"Status\"].apply(lambda x: 1 if x==\"Survived\" else 0)\n",
    "donner[\"intercept\"] = 1.0"
   ]
  },
  {
   "cell_type": "code",
   "execution_count": 5,
   "metadata": {
    "collapsed": false
   },
   "outputs": [
    {
     "data": {
      "text/html": [
       "<div>\n",
       "<table border=\"1\" class=\"dataframe\">\n",
       "  <thead>\n",
       "    <tr style=\"text-align: right;\">\n",
       "      <th></th>\n",
       "      <th>Age</th>\n",
       "      <th>Sex</th>\n",
       "      <th>Status</th>\n",
       "      <th>Female</th>\n",
       "      <th>Survived</th>\n",
       "      <th>intercept</th>\n",
       "    </tr>\n",
       "  </thead>\n",
       "  <tbody>\n",
       "    <tr>\n",
       "      <th>0</th>\n",
       "      <td>23</td>\n",
       "      <td>Male</td>\n",
       "      <td>Died</td>\n",
       "      <td>0</td>\n",
       "      <td>0</td>\n",
       "      <td>1.0</td>\n",
       "    </tr>\n",
       "    <tr>\n",
       "      <th>1</th>\n",
       "      <td>40</td>\n",
       "      <td>Female</td>\n",
       "      <td>Survived</td>\n",
       "      <td>1</td>\n",
       "      <td>1</td>\n",
       "      <td>1.0</td>\n",
       "    </tr>\n",
       "    <tr>\n",
       "      <th>2</th>\n",
       "      <td>40</td>\n",
       "      <td>Male</td>\n",
       "      <td>Survived</td>\n",
       "      <td>0</td>\n",
       "      <td>1</td>\n",
       "      <td>1.0</td>\n",
       "    </tr>\n",
       "    <tr>\n",
       "      <th>3</th>\n",
       "      <td>30</td>\n",
       "      <td>Male</td>\n",
       "      <td>Died</td>\n",
       "      <td>0</td>\n",
       "      <td>0</td>\n",
       "      <td>1.0</td>\n",
       "    </tr>\n",
       "    <tr>\n",
       "      <th>4</th>\n",
       "      <td>28</td>\n",
       "      <td>Male</td>\n",
       "      <td>Died</td>\n",
       "      <td>0</td>\n",
       "      <td>0</td>\n",
       "      <td>1.0</td>\n",
       "    </tr>\n",
       "  </tbody>\n",
       "</table>\n",
       "</div>"
      ],
      "text/plain": [
       "   Age     Sex    Status  Female  Survived  intercept\n",
       "0   23    Male      Died       0         0        1.0\n",
       "1   40  Female  Survived       1         1        1.0\n",
       "2   40    Male  Survived       0         1        1.0\n",
       "3   30    Male      Died       0         0        1.0\n",
       "4   28    Male      Died       0         0        1.0"
      ]
     },
     "execution_count": 5,
     "metadata": {},
     "output_type": "execute_result"
    }
   ],
   "source": [
    "donner.head()"
   ]
  },
  {
   "cell_type": "markdown",
   "metadata": {},
   "source": [
    "Run a logistic regression model to predict survival based on the predictor age."
   ]
  },
  {
   "cell_type": "code",
   "execution_count": 6,
   "metadata": {
    "collapsed": false
   },
   "outputs": [
    {
     "name": "stdout",
     "output_type": "stream",
     "text": [
      "Optimization terminated successfully.\n",
      "         Current function value: 0.625452\n",
      "         Iterations 6\n"
     ]
    },
    {
     "data": {
      "text/html": [
       "<table class=\"simpletable\">\n",
       "<caption>Logit Regression Results</caption>\n",
       "<tr>\n",
       "  <th>Dep. Variable:</th>     <td>Survived</td>     <th>  No. Observations:  </th>  <td>    45</td> \n",
       "</tr>\n",
       "<tr>\n",
       "  <th>Model:</th>               <td>Logit</td>      <th>  Df Residuals:      </th>  <td>    43</td> \n",
       "</tr>\n",
       "<tr>\n",
       "  <th>Method:</th>               <td>MLE</td>       <th>  Df Model:          </th>  <td>     1</td> \n",
       "</tr>\n",
       "<tr>\n",
       "  <th>Date:</th>          <td>Wed, 16 Nov 2016</td> <th>  Pseudo R-squ.:     </th>  <td>0.08954</td>\n",
       "</tr>\n",
       "<tr>\n",
       "  <th>Time:</th>              <td>20:27:45</td>     <th>  Log-Likelihood:    </th> <td> -28.145</td>\n",
       "</tr>\n",
       "<tr>\n",
       "  <th>converged:</th>           <td>True</td>       <th>  LL-Null:           </th> <td> -30.913</td>\n",
       "</tr>\n",
       "<tr>\n",
       "  <th> </th>                      <td> </td>        <th>  LLR p-value:       </th>  <td>0.01863</td>\n",
       "</tr>\n",
       "</table>\n",
       "<table class=\"simpletable\">\n",
       "<tr>\n",
       "      <td></td>         <th>coef</th>     <th>std err</th>      <th>z</th>      <th>P>|z|</th> <th>[95.0% Conf. Int.]</th> \n",
       "</tr>\n",
       "<tr>\n",
       "  <th>Age</th>       <td>   -0.0665</td> <td>    0.032</td> <td>   -2.063</td> <td> 0.039</td> <td>   -0.130    -0.003</td>\n",
       "</tr>\n",
       "<tr>\n",
       "  <th>intercept</th> <td>    1.8185</td> <td>    0.999</td> <td>    1.820</td> <td> 0.069</td> <td>   -0.140     3.777</td>\n",
       "</tr>\n",
       "</table>"
      ],
      "text/plain": [
       "<class 'statsmodels.iolib.summary.Summary'>\n",
       "\"\"\"\n",
       "                           Logit Regression Results                           \n",
       "==============================================================================\n",
       "Dep. Variable:               Survived   No. Observations:                   45\n",
       "Model:                          Logit   Df Residuals:                       43\n",
       "Method:                           MLE   Df Model:                            1\n",
       "Date:                Wed, 16 Nov 2016   Pseudo R-squ.:                 0.08954\n",
       "Time:                        20:27:45   Log-Likelihood:                -28.145\n",
       "converged:                       True   LL-Null:                       -30.913\n",
       "                                        LLR p-value:                   0.01863\n",
       "==============================================================================\n",
       "                 coef    std err          z      P>|z|      [95.0% Conf. Int.]\n",
       "------------------------------------------------------------------------------\n",
       "Age           -0.0665      0.032     -2.063      0.039        -0.130    -0.003\n",
       "intercept      1.8185      0.999      1.820      0.069        -0.140     3.777\n",
       "==============================================================================\n",
       "\"\"\""
      ]
     },
     "execution_count": 6,
     "metadata": {},
     "output_type": "execute_result"
    }
   ],
   "source": [
    "train_cols = [\"Age\", \"intercept\"]\n",
    "logit_age = sm.Logit(donner[\"Survived\"], donner[train_cols])\n",
    "result_age = logit_age.fit()\n",
    "result_age.summary()"
   ]
  },
  {
   "cell_type": "markdown",
   "metadata": {},
   "source": [
    "Add sex as a predictor."
   ]
  },
  {
   "cell_type": "code",
   "execution_count": 7,
   "metadata": {
    "collapsed": false
   },
   "outputs": [
    {
     "name": "stdout",
     "output_type": "stream",
     "text": [
      "Optimization terminated successfully.\n",
      "         Current function value: 0.569514\n",
      "         Iterations 6\n"
     ]
    },
    {
     "data": {
      "text/html": [
       "<table class=\"simpletable\">\n",
       "<caption>Logit Regression Results</caption>\n",
       "<tr>\n",
       "  <th>Dep. Variable:</th>     <td>Survived</td>     <th>  No. Observations:  </th>  <td>    45</td> \n",
       "</tr>\n",
       "<tr>\n",
       "  <th>Model:</th>               <td>Logit</td>      <th>  Df Residuals:      </th>  <td>    42</td> \n",
       "</tr>\n",
       "<tr>\n",
       "  <th>Method:</th>               <td>MLE</td>       <th>  Df Model:          </th>  <td>     2</td> \n",
       "</tr>\n",
       "<tr>\n",
       "  <th>Date:</th>          <td>Wed, 16 Nov 2016</td> <th>  Pseudo R-squ.:     </th>  <td>0.1710</td> \n",
       "</tr>\n",
       "<tr>\n",
       "  <th>Time:</th>              <td>20:27:45</td>     <th>  Log-Likelihood:    </th> <td> -25.628</td>\n",
       "</tr>\n",
       "<tr>\n",
       "  <th>converged:</th>           <td>True</td>       <th>  LL-Null:           </th> <td> -30.913</td>\n",
       "</tr>\n",
       "<tr>\n",
       "  <th> </th>                      <td> </td>        <th>  LLR p-value:       </th> <td>0.005066</td>\n",
       "</tr>\n",
       "</table>\n",
       "<table class=\"simpletable\">\n",
       "<tr>\n",
       "      <td></td>         <th>coef</th>     <th>std err</th>      <th>z</th>      <th>P>|z|</th> <th>[95.0% Conf. Int.]</th> \n",
       "</tr>\n",
       "<tr>\n",
       "  <th>Age</th>       <td>   -0.0782</td> <td>    0.037</td> <td>   -2.097</td> <td> 0.036</td> <td>   -0.151    -0.005</td>\n",
       "</tr>\n",
       "<tr>\n",
       "  <th>Female</th>    <td>    1.5973</td> <td>    0.756</td> <td>    2.114</td> <td> 0.034</td> <td>    0.117     3.078</td>\n",
       "</tr>\n",
       "<tr>\n",
       "  <th>intercept</th> <td>    1.6331</td> <td>    1.110</td> <td>    1.471</td> <td> 0.141</td> <td>   -0.543     3.809</td>\n",
       "</tr>\n",
       "</table>"
      ],
      "text/plain": [
       "<class 'statsmodels.iolib.summary.Summary'>\n",
       "\"\"\"\n",
       "                           Logit Regression Results                           \n",
       "==============================================================================\n",
       "Dep. Variable:               Survived   No. Observations:                   45\n",
       "Model:                          Logit   Df Residuals:                       42\n",
       "Method:                           MLE   Df Model:                            2\n",
       "Date:                Wed, 16 Nov 2016   Pseudo R-squ.:                  0.1710\n",
       "Time:                        20:27:45   Log-Likelihood:                -25.628\n",
       "converged:                       True   LL-Null:                       -30.913\n",
       "                                        LLR p-value:                  0.005066\n",
       "==============================================================================\n",
       "                 coef    std err          z      P>|z|      [95.0% Conf. Int.]\n",
       "------------------------------------------------------------------------------\n",
       "Age           -0.0782      0.037     -2.097      0.036        -0.151    -0.005\n",
       "Female         1.5973      0.756      2.114      0.034         0.117     3.078\n",
       "intercept      1.6331      1.110      1.471      0.141        -0.543     3.809\n",
       "==============================================================================\n",
       "\"\"\""
      ]
     },
     "execution_count": 7,
     "metadata": {},
     "output_type": "execute_result"
    }
   ],
   "source": [
    "train_cols = [\"Age\", \"Female\", \"intercept\"]\n",
    "logit_all = sm.Logit(donner[\"Survived\"], donner[train_cols])\n",
    "result_all = logit_all.fit()\n",
    "result_all.summary()"
   ]
  },
  {
   "cell_type": "markdown",
   "metadata": {},
   "source": [
    "### Birdkeepers and Lung Cancer"
   ]
  },
  {
   "cell_type": "code",
   "execution_count": 28,
   "metadata": {
    "collapsed": true
   },
   "outputs": [],
   "source": [
    "bird = pd.read_csv(\"birds.csv\")"
   ]
  },
  {
   "cell_type": "code",
   "execution_count": 9,
   "metadata": {
    "collapsed": false
   },
   "outputs": [
    {
     "data": {
      "text/html": [
       "<div>\n",
       "<table border=\"1\" class=\"dataframe\">\n",
       "  <thead>\n",
       "    <tr style=\"text-align: right;\">\n",
       "      <th></th>\n",
       "      <th>LC</th>\n",
       "      <th>FM</th>\n",
       "      <th>SS</th>\n",
       "      <th>BK</th>\n",
       "      <th>AG</th>\n",
       "      <th>YR</th>\n",
       "      <th>CD</th>\n",
       "    </tr>\n",
       "  </thead>\n",
       "  <tbody>\n",
       "    <tr>\n",
       "      <th>0</th>\n",
       "      <td>LungCancer</td>\n",
       "      <td>Male</td>\n",
       "      <td>Low</td>\n",
       "      <td>Bird</td>\n",
       "      <td>37</td>\n",
       "      <td>19</td>\n",
       "      <td>12</td>\n",
       "    </tr>\n",
       "    <tr>\n",
       "      <th>1</th>\n",
       "      <td>LungCancer</td>\n",
       "      <td>Male</td>\n",
       "      <td>Low</td>\n",
       "      <td>Bird</td>\n",
       "      <td>41</td>\n",
       "      <td>22</td>\n",
       "      <td>15</td>\n",
       "    </tr>\n",
       "    <tr>\n",
       "      <th>2</th>\n",
       "      <td>LungCancer</td>\n",
       "      <td>Male</td>\n",
       "      <td>High</td>\n",
       "      <td>NoBird</td>\n",
       "      <td>43</td>\n",
       "      <td>19</td>\n",
       "      <td>15</td>\n",
       "    </tr>\n",
       "    <tr>\n",
       "      <th>3</th>\n",
       "      <td>LungCancer</td>\n",
       "      <td>Male</td>\n",
       "      <td>Low</td>\n",
       "      <td>Bird</td>\n",
       "      <td>46</td>\n",
       "      <td>24</td>\n",
       "      <td>15</td>\n",
       "    </tr>\n",
       "    <tr>\n",
       "      <th>4</th>\n",
       "      <td>LungCancer</td>\n",
       "      <td>Male</td>\n",
       "      <td>Low</td>\n",
       "      <td>Bird</td>\n",
       "      <td>49</td>\n",
       "      <td>31</td>\n",
       "      <td>20</td>\n",
       "    </tr>\n",
       "  </tbody>\n",
       "</table>\n",
       "</div>"
      ],
      "text/plain": [
       "           LC    FM    SS      BK  AG  YR  CD\n",
       "0  LungCancer  Male   Low    Bird  37  19  12\n",
       "1  LungCancer  Male   Low    Bird  41  22  15\n",
       "2  LungCancer  Male  High  NoBird  43  19  15\n",
       "3  LungCancer  Male   Low    Bird  46  24  15\n",
       "4  LungCancer  Male   Low    Bird  49  31  20"
      ]
     },
     "execution_count": 9,
     "metadata": {},
     "output_type": "execute_result"
    }
   ],
   "source": [
    "bird.head()"
   ]
  },
  {
   "cell_type": "code",
   "execution_count": 29,
   "metadata": {
    "collapsed": false
   },
   "outputs": [],
   "source": [
    "bird = bird.join(pd.get_dummies(bird[\"LC\"], prefix=\"LC\"))\n",
    "bird = bird.join(pd.get_dummies(bird[\"FM\"], prefix=\"FM\"))\n",
    "bird = bird.join(pd.get_dummies(bird[\"SS\"], prefix=\"SS\"))\n",
    "bird = bird.join(pd.get_dummies(bird[\"BK\"], prefix=\"BK\"))\n",
    "bird[\"intercept\"] = 1.0"
   ]
  },
  {
   "cell_type": "code",
   "execution_count": 31,
   "metadata": {
    "collapsed": false
   },
   "outputs": [
    {
     "data": {
      "text/html": [
       "<div>\n",
       "<table border=\"1\" class=\"dataframe\">\n",
       "  <thead>\n",
       "    <tr style=\"text-align: right;\">\n",
       "      <th></th>\n",
       "      <th>LC</th>\n",
       "      <th>FM</th>\n",
       "      <th>SS</th>\n",
       "      <th>BK</th>\n",
       "      <th>AG</th>\n",
       "      <th>YR</th>\n",
       "      <th>CD</th>\n",
       "      <th>LC_LungCancer</th>\n",
       "      <th>LC_NoCancer</th>\n",
       "      <th>FM_Female</th>\n",
       "      <th>FM_Male</th>\n",
       "      <th>SS_High</th>\n",
       "      <th>SS_Low</th>\n",
       "      <th>BK_Bird</th>\n",
       "      <th>BK_NoBird</th>\n",
       "      <th>intercept</th>\n",
       "    </tr>\n",
       "  </thead>\n",
       "  <tbody>\n",
       "    <tr>\n",
       "      <th>0</th>\n",
       "      <td>LungCancer</td>\n",
       "      <td>Male</td>\n",
       "      <td>Low</td>\n",
       "      <td>Bird</td>\n",
       "      <td>37</td>\n",
       "      <td>19</td>\n",
       "      <td>12</td>\n",
       "      <td>1</td>\n",
       "      <td>0</td>\n",
       "      <td>0</td>\n",
       "      <td>1</td>\n",
       "      <td>0</td>\n",
       "      <td>1</td>\n",
       "      <td>1</td>\n",
       "      <td>0</td>\n",
       "      <td>1.0</td>\n",
       "    </tr>\n",
       "    <tr>\n",
       "      <th>1</th>\n",
       "      <td>LungCancer</td>\n",
       "      <td>Male</td>\n",
       "      <td>Low</td>\n",
       "      <td>Bird</td>\n",
       "      <td>41</td>\n",
       "      <td>22</td>\n",
       "      <td>15</td>\n",
       "      <td>1</td>\n",
       "      <td>0</td>\n",
       "      <td>0</td>\n",
       "      <td>1</td>\n",
       "      <td>0</td>\n",
       "      <td>1</td>\n",
       "      <td>1</td>\n",
       "      <td>0</td>\n",
       "      <td>1.0</td>\n",
       "    </tr>\n",
       "    <tr>\n",
       "      <th>2</th>\n",
       "      <td>LungCancer</td>\n",
       "      <td>Male</td>\n",
       "      <td>High</td>\n",
       "      <td>NoBird</td>\n",
       "      <td>43</td>\n",
       "      <td>19</td>\n",
       "      <td>15</td>\n",
       "      <td>1</td>\n",
       "      <td>0</td>\n",
       "      <td>0</td>\n",
       "      <td>1</td>\n",
       "      <td>1</td>\n",
       "      <td>0</td>\n",
       "      <td>0</td>\n",
       "      <td>1</td>\n",
       "      <td>1.0</td>\n",
       "    </tr>\n",
       "    <tr>\n",
       "      <th>3</th>\n",
       "      <td>LungCancer</td>\n",
       "      <td>Male</td>\n",
       "      <td>Low</td>\n",
       "      <td>Bird</td>\n",
       "      <td>46</td>\n",
       "      <td>24</td>\n",
       "      <td>15</td>\n",
       "      <td>1</td>\n",
       "      <td>0</td>\n",
       "      <td>0</td>\n",
       "      <td>1</td>\n",
       "      <td>0</td>\n",
       "      <td>1</td>\n",
       "      <td>1</td>\n",
       "      <td>0</td>\n",
       "      <td>1.0</td>\n",
       "    </tr>\n",
       "    <tr>\n",
       "      <th>4</th>\n",
       "      <td>LungCancer</td>\n",
       "      <td>Male</td>\n",
       "      <td>Low</td>\n",
       "      <td>Bird</td>\n",
       "      <td>49</td>\n",
       "      <td>31</td>\n",
       "      <td>20</td>\n",
       "      <td>1</td>\n",
       "      <td>0</td>\n",
       "      <td>0</td>\n",
       "      <td>1</td>\n",
       "      <td>0</td>\n",
       "      <td>1</td>\n",
       "      <td>1</td>\n",
       "      <td>0</td>\n",
       "      <td>1.0</td>\n",
       "    </tr>\n",
       "  </tbody>\n",
       "</table>\n",
       "</div>"
      ],
      "text/plain": [
       "           LC    FM    SS      BK  AG  YR  CD  LC_LungCancer  LC_NoCancer  \\\n",
       "0  LungCancer  Male   Low    Bird  37  19  12              1            0   \n",
       "1  LungCancer  Male   Low    Bird  41  22  15              1            0   \n",
       "2  LungCancer  Male  High  NoBird  43  19  15              1            0   \n",
       "3  LungCancer  Male   Low    Bird  46  24  15              1            0   \n",
       "4  LungCancer  Male   Low    Bird  49  31  20              1            0   \n",
       "\n",
       "   FM_Female  FM_Male  SS_High  SS_Low  BK_Bird  BK_NoBird  intercept  \n",
       "0          0        1        0       1        1          0        1.0  \n",
       "1          0        1        0       1        1          0        1.0  \n",
       "2          0        1        1       0        0          1        1.0  \n",
       "3          0        1        0       1        1          0        1.0  \n",
       "4          0        1        0       1        1          0        1.0  "
      ]
     },
     "execution_count": 31,
     "metadata": {},
     "output_type": "execute_result"
    }
   ],
   "source": [
    "bird.head()"
   ]
  },
  {
   "cell_type": "code",
   "execution_count": 34,
   "metadata": {
    "collapsed": false
   },
   "outputs": [
    {
     "name": "stdout",
     "output_type": "stream",
     "text": [
      "Optimization terminated successfully.\n",
      "         Current function value: inf\n",
      "         Iterations 7\n"
     ]
    },
    {
     "name": "stderr",
     "output_type": "stream",
     "text": [
      "/Users/heidi/anaconda/lib/python3.5/site-packages/statsmodels/discrete/discrete_model.py:1213: RuntimeWarning: overflow encountered in exp\n",
      "  return 1/(1+np.exp(-X))\n",
      "/Users/heidi/anaconda/lib/python3.5/site-packages/statsmodels/discrete/discrete_model.py:1263: RuntimeWarning: divide by zero encountered in log\n",
      "  return np.sum(np.log(self.cdf(q*np.dot(X,params))))\n"
     ]
    },
    {
     "data": {
      "text/html": [
       "<table class=\"simpletable\">\n",
       "<caption>Logit Regression Results</caption>\n",
       "<tr>\n",
       "  <th>Dep. Variable:</th>   <td>LC_LungCancer</td>  <th>  No. Observations:  </th>  <td>   147</td> \n",
       "</tr>\n",
       "<tr>\n",
       "  <th>Model:</th>               <td>Logit</td>      <th>  Df Residuals:      </th>  <td>   140</td> \n",
       "</tr>\n",
       "<tr>\n",
       "  <th>Method:</th>               <td>MLE</td>       <th>  Df Model:          </th>  <td>     6</td> \n",
       "</tr>\n",
       "<tr>\n",
       "  <th>Date:</th>          <td>Wed, 16 Nov 2016</td> <th>  Pseudo R-squ.:     </th>  <td>  -inf</td> \n",
       "</tr>\n",
       "<tr>\n",
       "  <th>Time:</th>              <td>20:48:23</td>     <th>  Log-Likelihood:    </th> <td>    -inf</td>\n",
       "</tr>\n",
       "<tr>\n",
       "  <th>converged:</th>           <td>True</td>       <th>  LL-Null:           </th> <td> -17376.</td>\n",
       "</tr>\n",
       "<tr>\n",
       "  <th> </th>                      <td> </td>        <th>  LLR p-value:       </th>  <td> 1.000</td> \n",
       "</tr>\n",
       "</table>\n",
       "<table class=\"simpletable\">\n",
       "<tr>\n",
       "      <td></td>         <th>coef</th>     <th>std err</th>      <th>z</th>      <th>P>|z|</th> <th>[95.0% Conf. Int.]</th> \n",
       "</tr>\n",
       "<tr>\n",
       "  <th>FM_Female</th> <td>    0.5613</td> <td>    0.531</td> <td>    1.057</td> <td> 0.291</td> <td>   -0.480     1.602</td>\n",
       "</tr>\n",
       "<tr>\n",
       "  <th>SS_High</th>   <td>    0.1054</td> <td>    0.469</td> <td>    0.225</td> <td> 0.822</td> <td>   -0.813     1.024</td>\n",
       "</tr>\n",
       "<tr>\n",
       "  <th>BK_Bird</th>   <td>    1.3626</td> <td>    0.411</td> <td>    3.313</td> <td> 0.001</td> <td>    0.557     2.169</td>\n",
       "</tr>\n",
       "<tr>\n",
       "  <th>AG</th>        <td>   -0.0398</td> <td>    0.035</td> <td>   -1.120</td> <td> 0.263</td> <td>   -0.109     0.030</td>\n",
       "</tr>\n",
       "<tr>\n",
       "  <th>YR</th>        <td>    0.0729</td> <td>    0.026</td> <td>    2.751</td> <td> 0.006</td> <td>    0.021     0.125</td>\n",
       "</tr>\n",
       "<tr>\n",
       "  <th>CD</th>        <td>    0.0260</td> <td>    0.026</td> <td>    1.019</td> <td> 0.308</td> <td>   -0.024     0.076</td>\n",
       "</tr>\n",
       "<tr>\n",
       "  <th>intercept</th> <td>   -1.9374</td> <td>    1.804</td> <td>   -1.074</td> <td> 0.283</td> <td>   -5.474     1.599</td>\n",
       "</tr>\n",
       "</table>"
      ],
      "text/plain": [
       "<class 'statsmodels.iolib.summary.Summary'>\n",
       "\"\"\"\n",
       "                           Logit Regression Results                           \n",
       "==============================================================================\n",
       "Dep. Variable:          LC_LungCancer   No. Observations:                  147\n",
       "Model:                          Logit   Df Residuals:                      140\n",
       "Method:                           MLE   Df Model:                            6\n",
       "Date:                Wed, 16 Nov 2016   Pseudo R-squ.:                    -inf\n",
       "Time:                        20:48:23   Log-Likelihood:                   -inf\n",
       "converged:                       True   LL-Null:                       -17376.\n",
       "                                        LLR p-value:                     1.000\n",
       "==============================================================================\n",
       "                 coef    std err          z      P>|z|      [95.0% Conf. Int.]\n",
       "------------------------------------------------------------------------------\n",
       "FM_Female      0.5613      0.531      1.057      0.291        -0.480     1.602\n",
       "SS_High        0.1054      0.469      0.225      0.822        -0.813     1.024\n",
       "BK_Bird        1.3626      0.411      3.313      0.001         0.557     2.169\n",
       "AG            -0.0398      0.035     -1.120      0.263        -0.109     0.030\n",
       "YR             0.0729      0.026      2.751      0.006         0.021     0.125\n",
       "CD             0.0260      0.026      1.019      0.308        -0.024     0.076\n",
       "intercept     -1.9374      1.804     -1.074      0.283        -5.474     1.599\n",
       "==============================================================================\n",
       "\"\"\""
      ]
     },
     "execution_count": 34,
     "metadata": {},
     "output_type": "execute_result"
    }
   ],
   "source": [
    "train_cols = [\"FM_Female\", \"SS_High\", \"BK_Bird\", \"AG\", \"YR\", \"CD\", \"intercept\"]\n",
    "logit = sm.Logit(bird[\"LC_LungCancer\"], bird[train_cols])\n",
    "result = logit.fit()\n",
    "result.summary()"
   ]
  }
 ],
 "metadata": {
  "anaconda-cloud": {},
  "kernelspec": {
   "display_name": "Python [default]",
   "language": "python",
   "name": "python3"
  },
  "language_info": {
   "codemirror_mode": {
    "name": "ipython",
    "version": 3
   },
   "file_extension": ".py",
   "mimetype": "text/x-python",
   "name": "python",
   "nbconvert_exporter": "python",
   "pygments_lexer": "ipython3",
   "version": "3.5.2"
  }
 },
 "nbformat": 4,
 "nbformat_minor": 0
}
